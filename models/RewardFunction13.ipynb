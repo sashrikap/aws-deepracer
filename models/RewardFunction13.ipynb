{
 "cells": [
  {
   "cell_type": "markdown",
   "metadata": {},
   "source": [
    "# RewardFunction13\n",
    "```\n",
    "Key Elements:\n",
    "1. Uses vector curvature calculations\n",
    "   - If cos(theta) is closer to 1, then the track is straight\n",
    "   - And if the waypoints are closer together, assume that the track is curved\n",
    "```"
   ]
  },
  {
   "cell_type": "code",
   "execution_count": 2,
   "metadata": {},
   "outputs": [],
   "source": [
    "def reward_function(params):\n",
    "    \n",
    "    # Read input parameters\n",
    "    #x_car = params['x']\n",
    "    #y_car = params['y']\n",
    "    on_track = params['all_wheels_on_track']\n",
    "    distance_from_center = params['distance_from_center']\n",
    "    is_left_of_center = params['is_left_of_center']\n",
    "    track_width = params['track_width']\n",
    "    progress = params['progress']/100\n",
    "    waypoints = params['waypoints']\n",
    "    closest_waypoints = params['closest_waypoints']\n",
    "    steering = abs(params['steering_angle']) # Only need the absolute steering angle\n",
    "    speed = params['speed']\n",
    "    steps = params[\"steps\"]\n",
    "    \n",
    "    REWARD_MIN = 0.1\n",
    "    REWARD_MAX = 100\n",
    "    TARGET_STEPS = 300\n",
    "    \n",
    "    # Calculate 3 marks that are farther and father away from the center line\n",
    "    marker_1 = 0.25 * track_width\n",
    "    marker_2 = 0.4 * track_width\n",
    "    marker_3 = 0.6 * track_width\n",
    "    \n",
    "    # Set Base Reward\n",
    "    if not on_track: # Fail them if off Track\n",
    "        return REWARD_MIN\n",
    "    elif progress == 1:\n",
    "        #the lap is complete.  if we use more steps than TARGET_STEPS, the reward is lower\n",
    "        return REWARD_MAX * TARGET_STEPS / steps\n",
    "    else:        \n",
    "        reward = REWARD_MAX * max(progress, 0.4)\n",
    "        \n",
    "    # Determine waypoints\n",
    "    way0 = waypoints[closest_waypoints[0]] # closest waypoint behind car\n",
    "    way1 = waypoints[closest_waypoints[1]] # closest waypoint ahead of car\n",
    "    way2 = waypoints[(closest_waypoints[1] + 1) % len(waypoints)] # waypoint after next_pt\n",
    "    \n",
    "    vector1 = [way1[0] - way0[0], way1[1] - way0[1]]\n",
    "    vector2 = [way2[0] - way1[0], way2[1] - way1[1]]\n",
    "    \n",
    "    dist1 = (vector1[0]**2 + vector1[1]**2)**0.5    \n",
    "    dist2 = (vector2[0]**2 + vector2[1]**2)**0.5 \n",
    "    \n",
    "    trackCurved = False\n",
    "    if (dist2 > 0 and dist1 > 0):\n",
    "        #we will analyze the relative distances between waypoints\n",
    "        #compute the cosine of the angle between the vectors connecting consecutive waypoints\n",
    "        cosineAngle = abs(vector1[0]*vector2[0] + vector1[1]*vector2[1]) / (dist1 * dist2)\n",
    "        #cosineAngle will be closer to 1 if the curve is mostly straight\n",
    "        if cosineAngle < 0.99:\n",
    "            #the track might be curved\n",
    "            ratio = abs(dist2 - dist1)/(dist2 + dist1)\n",
    "            #the track might be curved if these consecutive waypoints are relatively close together\n",
    "            #if dist1 and dist2 are close to the same values, ratio will be very small.\n",
    "            #use a cutoff of 0.2 to decide that the angle between waypoint vectors is noticable\n",
    "            #so we'll look at the relative spacing between waypoints\n",
    "            if ratio < 0.2:\n",
    "                #this is the only way that we will consider the track curved\n",
    "                trackCurved = True \n",
    "    \n",
    "    if trackCurved:\n",
    "        # track is curved\n",
    "        if distance_from_center <= marker_2:\n",
    "            reward += 5 + (500 * max(progress, .01))/(steps**2 + 1)**.5\n",
    "        elif distance_from_center <= marker_3:\n",
    "            reward += 3 + (500 * max(progress, .01))/(steps**2 + 1)**.5\n",
    "    else:\n",
    "        #assume track is straight\n",
    "        reward += (speed**3)/3.75 + (900 * max(progress, .01))/(steps**2 + 1)**.5\n",
    "   \n",
    "    if is_left_of_center:\n",
    "        #throw in something if the car is left of center, just to see if we can\n",
    "        #reinforce that lane position...it should just be a little reward, especially\n",
    "        #when compared to the reward for speed and steps\n",
    "        reward += 1\n",
    "    \n",
    "    return float(reward)\n"
   ]
  },
  {
   "cell_type": "code",
   "execution_count": null,
   "metadata": {},
   "outputs": [],
   "source": []
  }
 ],
 "metadata": {
  "kernelspec": {
   "display_name": "Python 3",
   "language": "python",
   "name": "python3"
  },
  "language_info": {
   "codemirror_mode": {
    "name": "ipython",
    "version": 3
   },
   "file_extension": ".py",
   "mimetype": "text/x-python",
   "name": "python",
   "nbconvert_exporter": "python",
   "pygments_lexer": "ipython3",
   "version": "3.7.4"
  },
  "pycharm": {
   "stem_cell": {
    "cell_type": "raw",
    "metadata": {
     "collapsed": false
    },
    "source": []
   }
  }
 },
 "nbformat": 4,
 "nbformat_minor": 2
}
