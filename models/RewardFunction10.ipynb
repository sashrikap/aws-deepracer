{
 "cells": [
  {
   "cell_type": "markdown",
   "metadata": {},
   "source": [
    "# RewardFunction10\n",
    "```\n",
    "Key Elements:\n",
    "1. Based on RewardFunction_9\n",
    "2. On straight track, just get rewarded for speed\n",
    "3. Also rewarded for progress relative to steps\n",
    "   - Changed target_steps to 300 based on analysis from past testing\n",
    "4. On curved track, all we care about is lane position\n",
    "5. Curvature cut-off is 0.97 (same as RewardFunction_6 curvature calculations)\n",
    "```"
   ]
  },
  {
   "cell_type": "code",
   "execution_count": 1,
   "metadata": {},
   "outputs": [],
   "source": [
    "def reward_function(params):\n",
    "    '''\n",
    "    Curvature calculations are based on K value\n",
    "    '''\n",
    "   \n",
    "    # Read input parameters\n",
    "    #x_car = params['x']\n",
    "    #y_car = params['y']\n",
    "    on_track = params['all_wheels_on_track']\n",
    "    distance_from_center = params['distance_from_center']\n",
    "    track_width = params['track_width']\n",
    "    progress = params['progress']/100\n",
    "    waypoints = params['waypoints']\n",
    "    closest_waypoints = params['closest_waypoints']\n",
    "    steering = abs(params['steering_angle']) # Only need the absolute steering angle\n",
    "    speed = params['speed']\n",
    "    steps = params[\"steps\"]\n",
    "    \n",
    "    REWARD_MIN = 0.1\n",
    "    REWARD_MAX = 100\n",
    "    TARGET_STEPS = 300\n",
    "    \n",
    "    # Calculate 3 marks that are farther and father away from the center line\n",
    "    marker_1 = 0.25 * track_width\n",
    "    marker_2 = 0.4 * track_width\n",
    "    marker_3 = 0.6 * track_width\n",
    "    \n",
    "    # Set Base Reward\n",
    "    if not on_track: # Fail them if off Track\n",
    "        return REWARD_MIN\n",
    "    elif progress == 1:\n",
    "        #the lap is complete.  if we use more steps than TARGET_STEPS, the reward is lower\n",
    "        return REWARD_MAX * TARGET_STEPS / steps\n",
    "    elif steps < 3:\n",
    "        reward = REWARD_MAX\n",
    "    else:        \n",
    "        reward = REWARD_MAX * max(progress, 0.4)\n",
    "    \n",
    "    # Determine waypoints\n",
    "    prev_pt = waypoints[closest_waypoints[0]] # closest waypoint behind car\n",
    "    next_pt = waypoints[closest_waypoints[1]] # closest waypoint ahead of car\n",
    "    nextnext_pt = waypoints[(closest_waypoints[1] + 1) % len(waypoints)] # waypoint after next_pt\n",
    "    \n",
    "    prev_next_dist = ((prev_pt[0] - next_pt[0])**2 + (prev_pt[1] - next_pt[1])**2)**0.5    \n",
    "    next_nextnext_dist = ((next_pt[0] - nextnext_pt[0])**2 + (next_pt[1] - nextnext_pt[1])**2)**0.5   \n",
    "    prev_nextnext_dist = ((prev_pt[0] - nextnext_pt[0])**2 + (prev_pt[1] - nextnext_pt[1])**2)**0.5\n",
    "        \n",
    "    # Find out whether track is straight or curved\n",
    "    if prev_nextnext_dist/(prev_next_dist + next_nextnext_dist) > .97:\n",
    "        reward += (speed**2) + (progress*700/(((steps**2) + 1)**.5))\n",
    "    else:\n",
    "        #track is curved\n",
    "        if distance_from_center <= marker_2:\n",
    "            reward += 5\n",
    "        elif distance_from_center <= marker_3:\n",
    "            reward += 3\n",
    "    \n",
    "    return float(reward)\n"
   ]
  },
  {
   "cell_type": "code",
   "execution_count": null,
   "metadata": {},
   "outputs": [],
   "source": []
  }
 ],
 "metadata": {
  "kernelspec": {
   "display_name": "Python 3",
   "language": "python",
   "name": "python3"
  },
  "language_info": {
   "codemirror_mode": {
    "name": "ipython",
    "version": 3
   },
   "file_extension": ".py",
   "mimetype": "text/x-python",
   "name": "python",
   "nbconvert_exporter": "python",
   "pygments_lexer": "ipython3",
   "version": "3.7.4"
  },
  "pycharm": {
   "stem_cell": {
    "cell_type": "raw",
    "metadata": {
     "collapsed": false
    },
    "source": []
   }
  }
 },
 "nbformat": 4,
 "nbformat_minor": 2
}
