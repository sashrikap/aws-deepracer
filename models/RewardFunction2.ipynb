{
 "cells": [
  {
   "cell_type": "markdown",
   "metadata": {},
   "source": [
    "# RewardFunction2\n",
    "```\n",
    "Key Elements:\n",
    "1. Used waypoints to determine if track is straight or curved\n",
    "   - Rewarded for increased speed if track is straight\n",
    "   - If track is curved, increased speed is not rewarded\n",
    "2. Check if all wheels on track\n",
    "3. Determine progress and encourage completion of more steps (more iterations of the algorithm)\n",
    "4. Be closer to the center of the track\n",
    "```"
   ]
  },
  {
   "cell_type": "code",
   "execution_count": 2,
   "metadata": {},
   "outputs": [],
   "source": [
    "def reward_function(params):\n",
    "    '''\n",
    "    Example of penalize steering, which helps mitigate zig-zag behaviors\n",
    "    '''\n",
    "   \n",
    "    # Read input parameters\n",
    "    #x_car = params['x']\n",
    "    #y_car = params['y']\n",
    "    on_track = params['all_wheels_on_track']\n",
    "    distance_from_center = params['distance_from_center']\n",
    "    track_width = params['track_width']\n",
    "    progress = params['progress']/100\n",
    "    #waypoints = params['waypoints']\n",
    "    #closest_waypoints = params['closest_waypoints']\n",
    "    #steering = abs(params['steering_angle']) # Only need the absolute steering angle\n",
    "    speed = params['speed']\n",
    "    steps = params[\"steps\"]\n",
    "    \n",
    "    REWARD_MIN = 0.1\n",
    "    REWARD_MAX = 100\n",
    "    TARGET_STEPS = 150\n",
    "    \n",
    "    # Calculate 3 marks that are farther and father away from the center line\n",
    "    marker_1 = 0.25 * track_width\n",
    "    marker_2 = 0.4 * track_width\n",
    "    marker_3 = 0.6 * track_width\n",
    "    \n",
    "    # Set Base Reward\n",
    "    if not on_track: # Fail them if off Track\n",
    "        return REWARD_MIN\n",
    "    elif progress == 1:\n",
    "        #the lap is complete.  if we use more steps than TARGET_STEPS, the reward is lower\n",
    "        return REWARD_MAX * TARGET_STEPS / steps\n",
    "    elif progress < .1:\n",
    "        #assuming that the car starts on a straight track, set the base reward to be the maximum\n",
    "        #we will adjust things later on\n",
    "        reward = REWARD_MAX\n",
    "    elif steps > 0:        # we want the vehicle to continue making progress\n",
    "        reward = REWARD_MAX * max(progress, 0.4)\n",
    "\n",
    "    # Give higher reward if the car is closer to center line and vice versa\n",
    "    if distance_from_center <= marker_1:\n",
    "        reward += 5\n",
    "    elif distance_from_center <= marker_2:\n",
    "        reward += 1\n",
    "    \n",
    "    # Determine waypoints\n",
    "    prev_pt = waypoints[closest_waypoints[0]] # closest waypoint behind car\n",
    "    next_pt = waypoints[closest_waypoints[1]] # closest waypoint ahead of car\n",
    "    nextnext_pt = waypoints[(closest_waypoints[1] + 1) % len(waypoints)] # waypoint after next_pt\n",
    "    \n",
    "    #car_next_dist = ((x_car - next_pt[0])**2 + (y_car - next_pt[1])**2)**0.5    \n",
    "    prev_next_dist = ((prev_pt[0] - next_pt[0])**2 + (prev_pt[1] - next_pt[1])**2)**0.5    \n",
    "    next_nextnext_dist = ((next_pt[0] - nextnext_pt[0])**2 + (next_pt[1] - nextnext_pt[1])**2)**0.5   \n",
    "    #car_nextnext_dist = ((x_car - nextnext_pt[0])**2 + (y_car - nextnext_pt[1])**2)**0.5\n",
    "    prev_nextnext_dist = ((prev_pt[0] - nextnext_pt[0])**2 + (prev_pt[1] - nextnext_pt[1])**2)**0.5\n",
    "    \n",
    "    # Find out whether track is straight or curved\n",
    "    if prev_nextnext_dist/(prev_next_dist + next_nextnext_dist) > .98:\n",
    "        # reward speed on straight track\n",
    "        reward += min(speed**2, 10)\n",
    "    elif speed > 2:\n",
    "        #reward speed on curved track\n",
    "        reward += 2\n",
    " \n",
    "    return float(reward)\n"
   ]
  },
  {
   "cell_type": "code",
   "execution_count": null,
   "metadata": {},
   "outputs": [],
   "source": []
  }
 ],
 "metadata": {
  "kernelspec": {
   "display_name": "Python 3",
   "language": "python",
   "name": "python3"
  },
  "language_info": {
   "codemirror_mode": {
    "name": "ipython",
    "version": 3
   },
   "file_extension": ".py",
   "mimetype": "text/x-python",
   "name": "python",
   "nbconvert_exporter": "python",
   "pygments_lexer": "ipython3",
   "version": "3.7.4"
  },
  "pycharm": {
   "stem_cell": {
    "cell_type": "raw",
    "metadata": {
     "collapsed": false
    },
    "source": []
   }
  }
 },
 "nbformat": 4,
 "nbformat_minor": 2
}
